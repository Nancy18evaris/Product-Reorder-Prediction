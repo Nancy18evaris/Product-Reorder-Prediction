{
 "cells": [
  {
   "cell_type": "code",
   "execution_count": 1,
   "id": "dd78b9f8",
   "metadata": {},
   "outputs": [],
   "source": [
    "import pandas as pd\n",
    "import numpy as np\n"
   ]
  },
  {
   "cell_type": "code",
   "execution_count": 2,
   "id": "d59ac844",
   "metadata": {},
   "outputs": [],
   "source": [
    "new_df = pd.read_csv(r\"M:\\DL\\DL_FINAL\\before_encoding.csv\")\n",
    "\n"
   ]
  },
  {
   "cell_type": "code",
   "execution_count": null,
   "id": "32e52f2e",
   "metadata": {},
   "outputs": [
    {
     "name": "stdout",
     "output_type": "stream",
     "text": [
      "Original dataset size: 33819106\n",
      "Reduced dataset size: 16909553\n",
      "          order_id  add_to_cart_order  reordered  user_id eval_set  \\\n",
      "7009614    1439264           0.788883          0    58741    prior   \n",
      "12886293   2981148           0.228623          1   185692    prior   \n",
      "30444410   1867638           0.751832          0   200035    prior   \n",
      "27795025   1515182           0.191572          1   137858    prior   \n",
      "10883987    908411           1.349143          1   136134    prior   \n",
      "\n",
      "          order_number  order_dow  order_hour_of_day  days_since_prior_order  \\\n",
      "7009614              3          6                 11                    30.0   \n",
      "12886293            49          3                 12                    11.0   \n",
      "30444410            15          0                  8                     6.0   \n",
      "27795025            17          2                 15                    17.0   \n",
      "10883987             6          0                 16                     2.0   \n",
      "\n",
      "          add_to_cart_order_log  ... product_reorder_ratio  \\\n",
      "7009614                2.708050  ...              0.568715   \n",
      "12886293               2.397895  ...              0.568715   \n",
      "30444410               1.386294  ...              0.568715   \n",
      "27795025               2.079442  ...              0.568715   \n",
      "10883987               2.944439  ...              0.568715   \n",
      "\n",
      "         strawberries_total_reorders is_weekend  is_weekday  total_sales  \\\n",
      "7009614                            0          1           0     29938070   \n",
      "12886293                           0          0           1     29938070   \n",
      "30444410                           0          1           0     29938070   \n",
      "27795025                           0          0           1     29938070   \n",
      "10883987                           0          1           0     29938070   \n",
      "\n",
      "          weekday_sales  weekend_sales  weekday_ratio  weekend_ratio  \\\n",
      "7009614        20047270        9890800       0.669625       0.330375   \n",
      "12886293       20047270        9890800       0.669625       0.330375   \n",
      "30444410       20047270        9890800       0.669625       0.330375   \n",
      "27795025       20047270        9890800       0.669625       0.330375   \n",
      "10883987       20047270        9890800       0.669625       0.330375   \n",
      "\n",
      "          ratio_diff  \n",
      "7009614     0.339249  \n",
      "12886293    0.339249  \n",
      "30444410    0.339249  \n",
      "27795025    0.339249  \n",
      "10883987    0.339249  \n",
      "\n",
      "[5 rows x 31 columns]\n"
     ]
    }
   ],
   "source": [
    "import pandas as pd\n",
    "\n",
    "\n",
    "\n",
    "# Randomly keep 50% of the data\n",
    "reduced_df = new_df.sample(frac=0.50, random_state=42)  # random_state ensures reproducibility\n",
    "\n",
    "# Save reduced dataset (optional)\n",
    "reduced_df.to_csv(\"reduced_dataset.csv\", index=False)\n",
    "\n",
    "# Show results\n",
    "print(f\"Original dataset size: {len(new_df)}\")\n",
    "print(f\"Reduced dataset size: {len(reduced_df)}\")\n",
    "print(reduced_df.head())\n"
   ]
  }
 ],
 "metadata": {
  "kernelspec": {
   "display_name": ".venv (3.11.9)",
   "language": "python",
   "name": "python3"
  },
  "language_info": {
   "codemirror_mode": {
    "name": "ipython",
    "version": 3
   },
   "file_extension": ".py",
   "mimetype": "text/x-python",
   "name": "python",
   "nbconvert_exporter": "python",
   "pygments_lexer": "ipython3",
   "version": "3.11.9"
  }
 },
 "nbformat": 4,
 "nbformat_minor": 5
}
